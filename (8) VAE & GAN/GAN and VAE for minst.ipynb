{
 "cells": [
  {
   "cell_type": "markdown",
   "metadata": {},
   "source": [
    "# GAN / VAE Tutorial"
   ]
  },
  {
   "cell_type": "markdown",
   "metadata": {},
   "source": [
    "## Import and Set HyperParameters"
   ]
  },
  {
   "cell_type": "code",
   "execution_count": 1,
   "metadata": {},
   "outputs": [],
   "source": [
    "import os\n",
    "import torch\n",
    "import torchvision\n",
    "import torch.nn as nn\n",
    "from torchvision import transforms\n",
    "from torchvision.utils import save_image"
   ]
  },
  {
   "cell_type": "code",
   "execution_count": 2,
   "metadata": {},
   "outputs": [],
   "source": [
    "# Device configuration\n",
    "device = torch.device('cuda' if torch.cuda.is_available() else 'cpu')"
   ]
  },
  {
   "cell_type": "code",
   "execution_count": 3,
   "metadata": {
    "scrolled": true
   },
   "outputs": [
    {
     "data": {
      "text/plain": [
       "device(type='cuda')"
      ]
     },
     "execution_count": 3,
     "metadata": {},
     "output_type": "execute_result"
    }
   ],
   "source": [
    "device"
   ]
  },
  {
   "cell_type": "code",
   "execution_count": 4,
   "metadata": {},
   "outputs": [
    {
     "name": "stderr",
     "output_type": "stream",
     "text": [
      "\r",
      "0it [00:00, ?it/s]"
     ]
    },
    {
     "name": "stdout",
     "output_type": "stream",
     "text": [
      "Downloading http://yann.lecun.com/exdb/mnist/train-images-idx3-ubyte.gz to ./data/MNIST\\raw\\train-images-idx3-ubyte.gz\n"
     ]
    },
    {
     "name": "stderr",
     "output_type": "stream",
     "text": [
      " 92%|█████████████████████████████████████████████████████████████▉     | 9158656/9912422 [00:03<00:00, 3866260.40it/s]"
     ]
    },
    {
     "name": "stdout",
     "output_type": "stream",
     "text": [
      "Extracting ./data/MNIST\\raw\\train-images-idx3-ubyte.gz to ./data/MNIST\\raw\n"
     ]
    },
    {
     "name": "stderr",
     "output_type": "stream",
     "text": [
      "\n",
      "0it [00:00, ?it/s]\u001b[A"
     ]
    },
    {
     "name": "stdout",
     "output_type": "stream",
     "text": [
      "Downloading http://yann.lecun.com/exdb/mnist/train-labels-idx1-ubyte.gz to ./data/MNIST\\raw\\train-labels-idx1-ubyte.gz\n"
     ]
    },
    {
     "name": "stderr",
     "output_type": "stream",
     "text": [
      "\n",
      "  0%|                                                                                        | 0/28881 [00:00<?, ?it/s]\u001b[A\n",
      " 57%|█████████████████████████████████████████▍                               | 16384/28881 [00:00<00:00, 70297.66it/s]\u001b[A\n",
      "\n",
      "0it [00:00, ?it/s]\u001b[A\u001b[A"
     ]
    },
    {
     "name": "stdout",
     "output_type": "stream",
     "text": [
      "Extracting ./data/MNIST\\raw\\train-labels-idx1-ubyte.gz to ./data/MNIST\\raw\n",
      "Downloading http://yann.lecun.com/exdb/mnist/t10k-images-idx3-ubyte.gz to ./data/MNIST\\raw\\t10k-images-idx3-ubyte.gz\n"
     ]
    },
    {
     "name": "stderr",
     "output_type": "stream",
     "text": [
      "\n",
      "\n",
      "  0%|                                                                                      | 0/1648877 [00:00<?, ?it/s]\u001b[A\u001b[A\n",
      "\n",
      "  1%|▋                                                                      | 16384/1648877 [00:00<00:26, 62267.50it/s]\u001b[A\u001b[A\n",
      "\n",
      "  3%|██                                                                     | 49152/1648877 [00:01<00:21, 76028.17it/s]\u001b[A\u001b[A\n",
      "\n",
      "  6%|████▏                                                                  | 98304/1648877 [00:01<00:16, 94595.57it/s]\u001b[A\u001b[A\n",
      "\n",
      " 13%|████████▉                                                            | 212992/1648877 [00:01<00:11, 124795.38it/s]\u001b[A\u001b[A\n",
      "\n",
      " 26%|██████████████████▏                                                  | 434176/1648877 [00:01<00:07, 169608.21it/s]\u001b[A\u001b[A\n",
      "\n",
      " 53%|████████████████████████████████████▋                                | 876544/1648877 [00:01<00:03, 233731.35it/s]\u001b[A\u001b[A\n",
      "\n",
      "\n",
      "0it [00:00, ?it/s]\u001b[A\u001b[A\u001b[A"
     ]
    },
    {
     "name": "stdout",
     "output_type": "stream",
     "text": [
      "Extracting ./data/MNIST\\raw\\t10k-images-idx3-ubyte.gz to ./data/MNIST\\raw\n",
      "Downloading http://yann.lecun.com/exdb/mnist/t10k-labels-idx1-ubyte.gz to ./data/MNIST\\raw\\t10k-labels-idx1-ubyte.gz\n"
     ]
    },
    {
     "name": "stderr",
     "output_type": "stream",
     "text": [
      "\n",
      "\n",
      "\n",
      "32768it [00:03, 9172.27it/s]                                                                                           \u001b[A\u001b[A\u001b[A\n",
      "1654784it [00:02, 596367.32it/s]                                                                                       \n",
      "8192it [00:00, 11608.72it/s]                                                                                           "
     ]
    },
    {
     "name": "stdout",
     "output_type": "stream",
     "text": [
      "Extracting ./data/MNIST\\raw\\t10k-labels-idx1-ubyte.gz to ./data/MNIST\\raw\n",
      "Processing...\n",
      "Done!\n"
     ]
    },
    {
     "name": "stderr",
     "output_type": "stream",
     "text": [
      "\n"
     ]
    }
   ],
   "source": [
    "# Hyper-parameters\n",
    "latent_size = 64\n",
    "hidden_size = 256\n",
    "image_size = 28*28\n",
    "num_epochs = 200\n",
    "batch_size = 100\n",
    "sample_dir = 'samples'\n",
    "\n",
    "# Create a directory if not exists\n",
    "if not os.path.exists(sample_dir):\n",
    "    os.makedirs(sample_dir)\n",
    "\n",
    "\n",
    "transform = transforms.Compose([\n",
    "                transforms.ToTensor(),\n",
    "                transforms.Normalize(mean=[0.5],   # 1 for greyscale channels\n",
    "                                     std=[0.5])])\n",
    "\n",
    "# MNIST dataset\n",
    "mnist = torchvision.datasets.MNIST(root='./data/',\n",
    "                                   train=True,\n",
    "                                   transform=transform,\n",
    "                                   download=True)\n",
    "\n",
    "# Data loader\n",
    "data_loader = torch.utils.data.DataLoader(dataset=mnist,\n",
    "                                          batch_size=batch_size, \n",
    "                                          shuffle=True)"
   ]
  },
  {
   "cell_type": "markdown",
   "metadata": {},
   "source": [
    "# 1. GAN"
   ]
  },
  {
   "cell_type": "markdown",
   "metadata": {},
   "source": [
    "## Construct Class"
   ]
  },
  {
   "cell_type": "code",
   "execution_count": 5,
   "metadata": {},
   "outputs": [],
   "source": [
    "class Discriminator(nn.Module):\n",
    "    def __init__(self, image_size, hidden_size, leaky=0.2):\n",
    "        super(Discriminator, self).__init__()\n",
    "        # 728 -> 256\n",
    "        self.linear1 = nn.Linear(image_size, hidden_size)\n",
    "        self.lr = nn.LeakyReLU(0.2)\n",
    "        self.linear2 = nn.Linear(hidden_size, hidden_size)\n",
    "        self.linear3 = nn.Linear(hidden_size, 1)\n",
    "        self.sigmoid = nn.Sigmoid()\n",
    "    \n",
    "    def forward(self, x):\n",
    "        x = self.linear1(x)\n",
    "        x = self.lr(x)\n",
    "        x = self.linear2(x)\n",
    "        x = self.lr(x)\n",
    "        x = self.linear3(x)\n",
    "        x = self.sigmoid(x)\n",
    "        return x"
   ]
  },
  {
   "cell_type": "code",
   "execution_count": 6,
   "metadata": {},
   "outputs": [],
   "source": [
    "class Generator(nn.Module):\n",
    "    def __init__(self, latent_size, hidden_size, image_size):\n",
    "        super(Generator, self).__init__()\n",
    "        self.linear1 = nn.Linear(latent_size, hidden_size)\n",
    "        # 64 -> 256\n",
    "        self.relu = nn.ReLU()\n",
    "        self.linear2 = nn.Linear(hidden_size, hidden_size)\n",
    "        # 256->256\n",
    "        self.linear3 = nn.Linear(hidden_size, image_size)\n",
    "        # 256-> 728\n",
    "        self.tanh = nn.Tanh()\n",
    "    \n",
    "    def forward(self, x):\n",
    "        x = self.linear1(x)\n",
    "        x = self.relu(x)\n",
    "        x = self.linear2(x)\n",
    "        x = self.relu(x)\n",
    "        x = self.linear3(x)\n",
    "        x = self.tanh(x)\n",
    "        return x"
   ]
  },
  {
   "cell_type": "code",
   "execution_count": 7,
   "metadata": {},
   "outputs": [],
   "source": [
    "D = Discriminator(image_size, hidden_size, leaky=0.2).to(device)\n",
    "\n",
    "G = Generator(latent_size, hidden_size, image_size).to(device)"
   ]
  },
  {
   "cell_type": "code",
   "execution_count": 8,
   "metadata": {},
   "outputs": [
    {
     "data": {
      "text/plain": [
       "Discriminator(\n",
       "  (linear1): Linear(in_features=784, out_features=256, bias=True)\n",
       "  (lr): LeakyReLU(negative_slope=0.2)\n",
       "  (linear2): Linear(in_features=256, out_features=256, bias=True)\n",
       "  (linear3): Linear(in_features=256, out_features=1, bias=True)\n",
       "  (sigmoid): Sigmoid()\n",
       ")"
      ]
     },
     "execution_count": 8,
     "metadata": {},
     "output_type": "execute_result"
    }
   ],
   "source": [
    "D"
   ]
  },
  {
   "cell_type": "code",
   "execution_count": 9,
   "metadata": {},
   "outputs": [
    {
     "data": {
      "text/plain": [
       "Generator(\n",
       "  (linear1): Linear(in_features=64, out_features=256, bias=True)\n",
       "  (relu): ReLU()\n",
       "  (linear2): Linear(in_features=256, out_features=256, bias=True)\n",
       "  (linear3): Linear(in_features=256, out_features=784, bias=True)\n",
       "  (tanh): Tanh()\n",
       ")"
      ]
     },
     "execution_count": 9,
     "metadata": {},
     "output_type": "execute_result"
    }
   ],
   "source": [
    "G"
   ]
  },
  {
   "cell_type": "markdown",
   "metadata": {},
   "source": [
    "# Set Criterion and Optimizer"
   ]
  },
  {
   "cell_type": "code",
   "execution_count": 12,
   "metadata": {},
   "outputs": [],
   "source": [
    "# Binary cross entropy loss and optimizer\n",
    "criterion = nn.BCELoss()\n",
    "d_optimizer = torch.optim.Adam(D.parameters(), lr=0.0002)\n",
    "g_optimizer = torch.optim.Adam(G.parameters(), lr=0.0002)"
   ]
  },
  {
   "cell_type": "markdown",
   "metadata": {},
   "source": [
    "# Useful Functions"
   ]
  },
  {
   "cell_type": "code",
   "execution_count": 13,
   "metadata": {},
   "outputs": [],
   "source": [
    "def denorm(x):\n",
    "    # TANH (-1, 1)\n",
    "    out = (x + 1) / 2\n",
    "    return out.clamp(0, 1)\n",
    "\n",
    "def reset_grad():\n",
    "    d_optimizer.zero_grad()\n",
    "    g_optimizer.zero_grad()"
   ]
  },
  {
   "cell_type": "markdown",
   "metadata": {},
   "source": [
    "# Training GAN"
   ]
  },
  {
   "cell_type": "code",
   "execution_count": 14,
   "metadata": {
    "scrolled": true
   },
   "outputs": [
    {
     "name": "stdout",
     "output_type": "stream",
     "text": [
      "Epoch [0/200], Step [200/600], d_loss: 0.0586, g_loss: 3.9094, D(x): 0.99, D(G(z)): 0.05\n",
      "Epoch [0/200], Step [400/600], d_loss: 0.0967, g_loss: 5.3692, D(x): 0.98, D(G(z)): 0.07\n"
     ]
    },
    {
     "name": "stderr",
     "output_type": "stream",
     "text": [
      "\r",
      "9920512it [01:25, 116412.39it/s] "
     ]
    },
    {
     "name": "stdout",
     "output_type": "stream",
     "text": [
      "Epoch [0/200], Step [600/600], d_loss: 0.0487, g_loss: 4.8690, D(x): 0.98, D(G(z)): 0.02\n"
     ]
    },
    {
     "name": "stderr",
     "output_type": "stream",
     "text": [
      "\n"
     ]
    },
    {
     "name": "stdout",
     "output_type": "stream",
     "text": [
      "Epoch [1/200], Step [200/600], d_loss: 0.0416, g_loss: 5.2259, D(x): 0.99, D(G(z)): 0.03\n",
      "Epoch [1/200], Step [400/600], d_loss: 0.6018, g_loss: 4.5484, D(x): 0.90, D(G(z)): 0.31\n",
      "Epoch [1/200], Step [600/600], d_loss: 0.2621, g_loss: 4.2726, D(x): 0.93, D(G(z)): 0.14\n",
      "Epoch [2/200], Step [200/600], d_loss: 0.1180, g_loss: 4.3692, D(x): 0.94, D(G(z)): 0.04\n",
      "Epoch [2/200], Step [400/600], d_loss: 0.3034, g_loss: 4.8743, D(x): 0.89, D(G(z)): 0.10\n",
      "Epoch [2/200], Step [600/600], d_loss: 0.0939, g_loss: 4.2371, D(x): 0.97, D(G(z)): 0.04\n",
      "Epoch [3/200], Step [200/600], d_loss: 0.2177, g_loss: 4.1738, D(x): 0.87, D(G(z)): 0.04\n",
      "Epoch [3/200], Step [400/600], d_loss: 0.2613, g_loss: 4.7241, D(x): 0.92, D(G(z)): 0.11\n",
      "Epoch [3/200], Step [600/600], d_loss: 0.7951, g_loss: 2.1754, D(x): 0.73, D(G(z)): 0.23\n",
      "Epoch [4/200], Step [200/600], d_loss: 0.4812, g_loss: 2.5108, D(x): 0.80, D(G(z)): 0.14\n",
      "Epoch [4/200], Step [400/600], d_loss: 0.5316, g_loss: 3.0730, D(x): 0.79, D(G(z)): 0.12\n",
      "Epoch [4/200], Step [600/600], d_loss: 0.1874, g_loss: 2.8634, D(x): 0.93, D(G(z)): 0.09\n",
      "Epoch [5/200], Step [200/600], d_loss: 0.1455, g_loss: 3.8763, D(x): 0.96, D(G(z)): 0.04\n",
      "Epoch [5/200], Step [400/600], d_loss: 0.3124, g_loss: 3.4390, D(x): 0.91, D(G(z)): 0.14\n",
      "Epoch [5/200], Step [600/600], d_loss: 0.1870, g_loss: 4.9922, D(x): 0.91, D(G(z)): 0.03\n",
      "Epoch [6/200], Step [200/600], d_loss: 0.2559, g_loss: 4.4742, D(x): 0.90, D(G(z)): 0.05\n",
      "Epoch [6/200], Step [400/600], d_loss: 0.1289, g_loss: 5.4641, D(x): 0.96, D(G(z)): 0.04\n",
      "Epoch [6/200], Step [600/600], d_loss: 0.1275, g_loss: 5.0449, D(x): 0.94, D(G(z)): 0.02\n",
      "Epoch [7/200], Step [200/600], d_loss: 0.1460, g_loss: 3.6185, D(x): 0.94, D(G(z)): 0.05\n",
      "Epoch [7/200], Step [400/600], d_loss: 0.1491, g_loss: 4.5169, D(x): 0.95, D(G(z)): 0.07\n",
      "Epoch [7/200], Step [600/600], d_loss: 0.1283, g_loss: 5.8914, D(x): 0.98, D(G(z)): 0.08\n",
      "Epoch [8/200], Step [200/600], d_loss: 0.3291, g_loss: 5.3975, D(x): 0.94, D(G(z)): 0.08\n",
      "Epoch [8/200], Step [400/600], d_loss: 0.0507, g_loss: 8.0886, D(x): 0.98, D(G(z)): 0.02\n",
      "Epoch [8/200], Step [600/600], d_loss: 0.2290, g_loss: 3.6079, D(x): 0.96, D(G(z)): 0.09\n",
      "Epoch [9/200], Step [200/600], d_loss: 0.2153, g_loss: 3.6960, D(x): 0.95, D(G(z)): 0.11\n",
      "Epoch [9/200], Step [400/600], d_loss: 0.1004, g_loss: 5.0347, D(x): 0.96, D(G(z)): 0.04\n",
      "Epoch [9/200], Step [600/600], d_loss: 0.0693, g_loss: 5.0646, D(x): 0.98, D(G(z)): 0.04\n",
      "Epoch [10/200], Step [200/600], d_loss: 0.0802, g_loss: 6.3906, D(x): 0.98, D(G(z)): 0.04\n",
      "Epoch [10/200], Step [400/600], d_loss: 0.1377, g_loss: 3.6877, D(x): 0.97, D(G(z)): 0.07\n",
      "Epoch [10/200], Step [600/600], d_loss: 0.1128, g_loss: 5.1492, D(x): 0.98, D(G(z)): 0.08\n",
      "Epoch [11/200], Step [200/600], d_loss: 0.1702, g_loss: 6.7782, D(x): 0.95, D(G(z)): 0.07\n",
      "Epoch [11/200], Step [400/600], d_loss: 0.0440, g_loss: 7.1397, D(x): 0.99, D(G(z)): 0.03\n",
      "Epoch [11/200], Step [600/600], d_loss: 0.1421, g_loss: 7.1086, D(x): 0.95, D(G(z)): 0.01\n",
      "Epoch [12/200], Step [200/600], d_loss: 0.1297, g_loss: 6.7890, D(x): 0.95, D(G(z)): 0.04\n",
      "Epoch [12/200], Step [400/600], d_loss: 0.0978, g_loss: 7.3117, D(x): 0.96, D(G(z)): 0.03\n",
      "Epoch [12/200], Step [600/600], d_loss: 0.1404, g_loss: 6.0034, D(x): 0.98, D(G(z)): 0.08\n",
      "Epoch [13/200], Step [200/600], d_loss: 0.2077, g_loss: 6.3394, D(x): 0.95, D(G(z)): 0.07\n",
      "Epoch [13/200], Step [400/600], d_loss: 0.2365, g_loss: 4.4113, D(x): 0.93, D(G(z)): 0.06\n",
      "Epoch [13/200], Step [600/600], d_loss: 0.3901, g_loss: 4.6466, D(x): 0.98, D(G(z)): 0.24\n",
      "Epoch [14/200], Step [200/600], d_loss: 0.3103, g_loss: 3.1711, D(x): 0.92, D(G(z)): 0.09\n",
      "Epoch [14/200], Step [400/600], d_loss: 0.1046, g_loss: 4.7590, D(x): 0.97, D(G(z)): 0.05\n",
      "Epoch [14/200], Step [600/600], d_loss: 0.2952, g_loss: 3.9977, D(x): 0.95, D(G(z)): 0.15\n",
      "Epoch [15/200], Step [200/600], d_loss: 0.3328, g_loss: 4.3648, D(x): 0.91, D(G(z)): 0.12\n",
      "Epoch [15/200], Step [400/600], d_loss: 0.2416, g_loss: 4.1639, D(x): 0.91, D(G(z)): 0.05\n",
      "Epoch [15/200], Step [600/600], d_loss: 0.2429, g_loss: 3.8291, D(x): 0.95, D(G(z)): 0.11\n",
      "Epoch [16/200], Step [200/600], d_loss: 0.2563, g_loss: 4.6327, D(x): 0.90, D(G(z)): 0.03\n",
      "Epoch [16/200], Step [400/600], d_loss: 0.4124, g_loss: 5.2668, D(x): 0.86, D(G(z)): 0.02\n",
      "Epoch [16/200], Step [600/600], d_loss: 0.3433, g_loss: 5.0662, D(x): 0.92, D(G(z)): 0.08\n",
      "Epoch [17/200], Step [200/600], d_loss: 0.2496, g_loss: 4.9589, D(x): 0.91, D(G(z)): 0.07\n",
      "Epoch [17/200], Step [400/600], d_loss: 0.2770, g_loss: 5.6314, D(x): 0.98, D(G(z)): 0.18\n",
      "Epoch [17/200], Step [600/600], d_loss: 0.1132, g_loss: 4.6236, D(x): 0.97, D(G(z)): 0.05\n",
      "Epoch [18/200], Step [200/600], d_loss: 0.3335, g_loss: 4.6836, D(x): 0.85, D(G(z)): 0.02\n",
      "Epoch [18/200], Step [400/600], d_loss: 0.2731, g_loss: 2.9275, D(x): 0.93, D(G(z)): 0.06\n",
      "Epoch [18/200], Step [600/600], d_loss: 0.2858, g_loss: 3.4896, D(x): 0.95, D(G(z)): 0.11\n",
      "Epoch [19/200], Step [200/600], d_loss: 0.2106, g_loss: 4.8493, D(x): 0.95, D(G(z)): 0.08\n",
      "Epoch [19/200], Step [400/600], d_loss: 0.4470, g_loss: 3.3267, D(x): 0.86, D(G(z)): 0.05\n",
      "Epoch [19/200], Step [600/600], d_loss: 0.2410, g_loss: 4.2408, D(x): 0.94, D(G(z)): 0.08\n",
      "Epoch [20/200], Step [200/600], d_loss: 0.3865, g_loss: 3.6500, D(x): 0.92, D(G(z)): 0.13\n",
      "Epoch [20/200], Step [400/600], d_loss: 0.2136, g_loss: 5.1473, D(x): 0.94, D(G(z)): 0.05\n",
      "Epoch [20/200], Step [600/600], d_loss: 0.2099, g_loss: 4.4448, D(x): 0.96, D(G(z)): 0.07\n",
      "Epoch [21/200], Step [200/600], d_loss: 0.1460, g_loss: 5.1867, D(x): 0.95, D(G(z)): 0.05\n",
      "Epoch [21/200], Step [400/600], d_loss: 0.3472, g_loss: 4.3398, D(x): 0.88, D(G(z)): 0.05\n",
      "Epoch [21/200], Step [600/600], d_loss: 0.3095, g_loss: 4.2403, D(x): 0.90, D(G(z)): 0.09\n",
      "Epoch [22/200], Step [200/600], d_loss: 0.3394, g_loss: 2.7274, D(x): 0.95, D(G(z)): 0.19\n",
      "Epoch [22/200], Step [400/600], d_loss: 0.2241, g_loss: 4.7021, D(x): 0.90, D(G(z)): 0.03\n",
      "Epoch [22/200], Step [600/600], d_loss: 0.3556, g_loss: 3.3416, D(x): 0.88, D(G(z)): 0.05\n",
      "Epoch [23/200], Step [200/600], d_loss: 0.3403, g_loss: 4.2379, D(x): 0.91, D(G(z)): 0.14\n",
      "Epoch [23/200], Step [400/600], d_loss: 0.3934, g_loss: 3.7681, D(x): 0.92, D(G(z)): 0.15\n",
      "Epoch [23/200], Step [600/600], d_loss: 0.5512, g_loss: 4.6914, D(x): 0.82, D(G(z)): 0.10\n",
      "Epoch [24/200], Step [200/600], d_loss: 0.1527, g_loss: 4.7956, D(x): 0.96, D(G(z)): 0.07\n",
      "Epoch [24/200], Step [400/600], d_loss: 0.6199, g_loss: 3.0226, D(x): 0.92, D(G(z)): 0.29\n",
      "Epoch [24/200], Step [600/600], d_loss: 0.3155, g_loss: 3.7933, D(x): 0.93, D(G(z)): 0.13\n",
      "Epoch [25/200], Step [200/600], d_loss: 0.3549, g_loss: 4.3660, D(x): 0.87, D(G(z)): 0.07\n",
      "Epoch [25/200], Step [400/600], d_loss: 0.2364, g_loss: 4.4373, D(x): 0.94, D(G(z)): 0.09\n",
      "Epoch [25/200], Step [600/600], d_loss: 0.4790, g_loss: 3.7931, D(x): 0.89, D(G(z)): 0.08\n",
      "Epoch [26/200], Step [200/600], d_loss: 0.4580, g_loss: 2.5248, D(x): 0.98, D(G(z)): 0.28\n",
      "Epoch [26/200], Step [400/600], d_loss: 0.3898, g_loss: 3.2145, D(x): 0.90, D(G(z)): 0.13\n",
      "Epoch [26/200], Step [600/600], d_loss: 0.2035, g_loss: 3.6280, D(x): 0.89, D(G(z)): 0.03\n",
      "Epoch [27/200], Step [200/600], d_loss: 0.3897, g_loss: 3.3884, D(x): 0.98, D(G(z)): 0.24\n",
      "Epoch [27/200], Step [400/600], d_loss: 0.4628, g_loss: 3.4901, D(x): 0.90, D(G(z)): 0.17\n",
      "Epoch [27/200], Step [600/600], d_loss: 0.2500, g_loss: 4.4321, D(x): 0.94, D(G(z)): 0.12\n",
      "Epoch [28/200], Step [200/600], d_loss: 0.2986, g_loss: 3.6670, D(x): 0.92, D(G(z)): 0.10\n",
      "Epoch [28/200], Step [400/600], d_loss: 0.6699, g_loss: 3.7147, D(x): 0.78, D(G(z)): 0.10\n",
      "Epoch [28/200], Step [600/600], d_loss: 0.4089, g_loss: 3.7793, D(x): 0.87, D(G(z)): 0.11\n",
      "Epoch [29/200], Step [200/600], d_loss: 0.2837, g_loss: 3.3464, D(x): 0.92, D(G(z)): 0.10\n",
      "Epoch [29/200], Step [400/600], d_loss: 0.4261, g_loss: 3.9119, D(x): 0.89, D(G(z)): 0.10\n",
      "Epoch [29/200], Step [600/600], d_loss: 0.3445, g_loss: 3.6677, D(x): 0.92, D(G(z)): 0.12\n",
      "Epoch [30/200], Step [200/600], d_loss: 0.2683, g_loss: 4.4083, D(x): 0.94, D(G(z)): 0.12\n",
      "Epoch [30/200], Step [400/600], d_loss: 0.4152, g_loss: 4.0212, D(x): 0.90, D(G(z)): 0.13\n",
      "Epoch [30/200], Step [600/600], d_loss: 0.5071, g_loss: 4.2412, D(x): 0.83, D(G(z)): 0.10\n",
      "Epoch [31/200], Step [200/600], d_loss: 0.5155, g_loss: 3.1910, D(x): 0.88, D(G(z)): 0.17\n",
      "Epoch [31/200], Step [400/600], d_loss: 0.4115, g_loss: 4.2087, D(x): 0.85, D(G(z)): 0.10\n"
     ]
    },
    {
     "name": "stdout",
     "output_type": "stream",
     "text": [
      "Epoch [31/200], Step [600/600], d_loss: 0.5160, g_loss: 3.9642, D(x): 0.89, D(G(z)): 0.19\n",
      "Epoch [32/200], Step [200/600], d_loss: 0.3733, g_loss: 3.0080, D(x): 0.85, D(G(z)): 0.09\n",
      "Epoch [32/200], Step [400/600], d_loss: 0.5033, g_loss: 3.3266, D(x): 0.86, D(G(z)): 0.15\n",
      "Epoch [32/200], Step [600/600], d_loss: 0.2121, g_loss: 4.1791, D(x): 0.90, D(G(z)): 0.06\n",
      "Epoch [33/200], Step [200/600], d_loss: 0.5674, g_loss: 2.9209, D(x): 0.84, D(G(z)): 0.21\n",
      "Epoch [33/200], Step [400/600], d_loss: 0.4436, g_loss: 3.6862, D(x): 0.89, D(G(z)): 0.17\n",
      "Epoch [33/200], Step [600/600], d_loss: 0.6675, g_loss: 3.1347, D(x): 0.83, D(G(z)): 0.15\n",
      "Epoch [34/200], Step [200/600], d_loss: 0.5076, g_loss: 4.2157, D(x): 0.84, D(G(z)): 0.12\n",
      "Epoch [34/200], Step [400/600], d_loss: 0.3574, g_loss: 3.6506, D(x): 0.88, D(G(z)): 0.07\n",
      "Epoch [34/200], Step [600/600], d_loss: 0.4011, g_loss: 3.8611, D(x): 0.95, D(G(z)): 0.22\n",
      "Epoch [35/200], Step [200/600], d_loss: 0.4919, g_loss: 3.0935, D(x): 0.82, D(G(z)): 0.10\n",
      "Epoch [35/200], Step [400/600], d_loss: 0.3472, g_loss: 3.0871, D(x): 0.89, D(G(z)): 0.14\n",
      "Epoch [35/200], Step [600/600], d_loss: 0.3429, g_loss: 3.1615, D(x): 0.91, D(G(z)): 0.15\n",
      "Epoch [36/200], Step [200/600], d_loss: 0.3856, g_loss: 3.1815, D(x): 0.89, D(G(z)): 0.15\n",
      "Epoch [36/200], Step [400/600], d_loss: 0.6391, g_loss: 3.1582, D(x): 0.80, D(G(z)): 0.14\n",
      "Epoch [36/200], Step [600/600], d_loss: 0.6254, g_loss: 3.1600, D(x): 0.84, D(G(z)): 0.15\n",
      "Epoch [37/200], Step [200/600], d_loss: 0.5683, g_loss: 2.9822, D(x): 0.87, D(G(z)): 0.20\n",
      "Epoch [37/200], Step [400/600], d_loss: 0.5208, g_loss: 3.7808, D(x): 0.88, D(G(z)): 0.15\n",
      "Epoch [37/200], Step [600/600], d_loss: 0.3669, g_loss: 3.0262, D(x): 0.84, D(G(z)): 0.06\n",
      "Epoch [38/200], Step [200/600], d_loss: 0.4115, g_loss: 3.2904, D(x): 0.86, D(G(z)): 0.12\n",
      "Epoch [38/200], Step [400/600], d_loss: 0.3994, g_loss: 3.4894, D(x): 0.87, D(G(z)): 0.11\n",
      "Epoch [38/200], Step [600/600], d_loss: 0.4599, g_loss: 2.4533, D(x): 0.80, D(G(z)): 0.07\n",
      "Epoch [39/200], Step [200/600], d_loss: 0.3773, g_loss: 3.3221, D(x): 0.95, D(G(z)): 0.20\n",
      "Epoch [39/200], Step [400/600], d_loss: 0.7475, g_loss: 3.4668, D(x): 0.74, D(G(z)): 0.07\n",
      "Epoch [39/200], Step [600/600], d_loss: 0.3039, g_loss: 3.2477, D(x): 0.90, D(G(z)): 0.12\n",
      "Epoch [40/200], Step [200/600], d_loss: 0.4498, g_loss: 3.0736, D(x): 0.89, D(G(z)): 0.18\n",
      "Epoch [40/200], Step [400/600], d_loss: 0.6829, g_loss: 2.9185, D(x): 0.73, D(G(z)): 0.08\n",
      "Epoch [40/200], Step [600/600], d_loss: 0.4270, g_loss: 2.7938, D(x): 0.86, D(G(z)): 0.13\n",
      "Epoch [41/200], Step [200/600], d_loss: 0.2945, g_loss: 3.0683, D(x): 0.88, D(G(z)): 0.09\n",
      "Epoch [41/200], Step [400/600], d_loss: 0.5904, g_loss: 2.8901, D(x): 0.76, D(G(z)): 0.09\n",
      "Epoch [41/200], Step [600/600], d_loss: 0.5526, g_loss: 3.7589, D(x): 0.88, D(G(z)): 0.21\n",
      "Epoch [42/200], Step [200/600], d_loss: 0.4627, g_loss: 3.4987, D(x): 0.82, D(G(z)): 0.07\n",
      "Epoch [42/200], Step [400/600], d_loss: 0.5864, g_loss: 1.9654, D(x): 0.85, D(G(z)): 0.23\n",
      "Epoch [42/200], Step [600/600], d_loss: 0.3620, g_loss: 2.8192, D(x): 0.87, D(G(z)): 0.12\n",
      "Epoch [43/200], Step [200/600], d_loss: 0.4501, g_loss: 2.7675, D(x): 0.87, D(G(z)): 0.17\n",
      "Epoch [43/200], Step [400/600], d_loss: 0.7535, g_loss: 2.3560, D(x): 0.82, D(G(z)): 0.25\n",
      "Epoch [43/200], Step [600/600], d_loss: 0.5012, g_loss: 1.8787, D(x): 0.83, D(G(z)): 0.14\n",
      "Epoch [44/200], Step [200/600], d_loss: 0.6041, g_loss: 2.5277, D(x): 0.80, D(G(z)): 0.16\n",
      "Epoch [44/200], Step [400/600], d_loss: 0.4286, g_loss: 3.0421, D(x): 0.88, D(G(z)): 0.15\n",
      "Epoch [44/200], Step [600/600], d_loss: 0.5979, g_loss: 2.2799, D(x): 0.89, D(G(z)): 0.27\n",
      "Epoch [45/200], Step [200/600], d_loss: 0.3778, g_loss: 2.3284, D(x): 0.89, D(G(z)): 0.16\n",
      "Epoch [45/200], Step [400/600], d_loss: 0.6103, g_loss: 2.8746, D(x): 0.85, D(G(z)): 0.23\n",
      "Epoch [45/200], Step [600/600], d_loss: 0.4646, g_loss: 3.2589, D(x): 0.83, D(G(z)): 0.11\n",
      "Epoch [46/200], Step [200/600], d_loss: 0.7605, g_loss: 2.8369, D(x): 0.87, D(G(z)): 0.28\n",
      "Epoch [46/200], Step [400/600], d_loss: 0.6538, g_loss: 2.8337, D(x): 0.83, D(G(z)): 0.21\n",
      "Epoch [46/200], Step [600/600], d_loss: 0.7148, g_loss: 2.8826, D(x): 0.72, D(G(z)): 0.08\n",
      "Epoch [47/200], Step [200/600], d_loss: 0.5942, g_loss: 2.7514, D(x): 0.89, D(G(z)): 0.27\n",
      "Epoch [47/200], Step [400/600], d_loss: 0.6240, g_loss: 2.5526, D(x): 0.75, D(G(z)): 0.11\n",
      "Epoch [47/200], Step [600/600], d_loss: 0.4768, g_loss: 2.8043, D(x): 0.85, D(G(z)): 0.17\n",
      "Epoch [48/200], Step [200/600], d_loss: 0.6764, g_loss: 2.9260, D(x): 0.79, D(G(z)): 0.16\n",
      "Epoch [48/200], Step [400/600], d_loss: 0.6504, g_loss: 2.9300, D(x): 0.75, D(G(z)): 0.09\n",
      "Epoch [48/200], Step [600/600], d_loss: 0.4594, g_loss: 3.3765, D(x): 0.78, D(G(z)): 0.07\n",
      "Epoch [49/200], Step [200/600], d_loss: 0.5076, g_loss: 3.3417, D(x): 0.83, D(G(z)): 0.11\n",
      "Epoch [49/200], Step [400/600], d_loss: 0.5949, g_loss: 3.0457, D(x): 0.79, D(G(z)): 0.14\n",
      "Epoch [49/200], Step [600/600], d_loss: 0.4915, g_loss: 2.7430, D(x): 0.82, D(G(z)): 0.16\n",
      "Epoch [50/200], Step [200/600], d_loss: 0.5921, g_loss: 4.3364, D(x): 0.77, D(G(z)): 0.06\n",
      "Epoch [50/200], Step [400/600], d_loss: 0.3838, g_loss: 2.4329, D(x): 0.90, D(G(z)): 0.15\n",
      "Epoch [50/200], Step [600/600], d_loss: 0.6092, g_loss: 2.8270, D(x): 0.73, D(G(z)): 0.07\n",
      "Epoch [51/200], Step [200/600], d_loss: 0.6450, g_loss: 1.8062, D(x): 0.89, D(G(z)): 0.28\n",
      "Epoch [51/200], Step [400/600], d_loss: 0.7719, g_loss: 2.3351, D(x): 0.78, D(G(z)): 0.24\n",
      "Epoch [51/200], Step [600/600], d_loss: 0.5662, g_loss: 2.1909, D(x): 0.81, D(G(z)): 0.18\n",
      "Epoch [52/200], Step [200/600], d_loss: 0.4445, g_loss: 2.3284, D(x): 0.85, D(G(z)): 0.15\n",
      "Epoch [52/200], Step [400/600], d_loss: 0.5203, g_loss: 2.8947, D(x): 0.85, D(G(z)): 0.19\n",
      "Epoch [52/200], Step [600/600], d_loss: 0.7011, g_loss: 3.1474, D(x): 0.75, D(G(z)): 0.15\n",
      "Epoch [53/200], Step [200/600], d_loss: 0.4128, g_loss: 3.0409, D(x): 0.88, D(G(z)): 0.18\n",
      "Epoch [53/200], Step [400/600], d_loss: 0.9383, g_loss: 2.1805, D(x): 0.82, D(G(z)): 0.35\n",
      "Epoch [53/200], Step [600/600], d_loss: 0.5809, g_loss: 3.6365, D(x): 0.82, D(G(z)): 0.18\n",
      "Epoch [54/200], Step [200/600], d_loss: 0.3792, g_loss: 2.6418, D(x): 0.90, D(G(z)): 0.19\n",
      "Epoch [54/200], Step [400/600], d_loss: 0.7263, g_loss: 2.8268, D(x): 0.79, D(G(z)): 0.23\n",
      "Epoch [54/200], Step [600/600], d_loss: 0.6490, g_loss: 3.3845, D(x): 0.77, D(G(z)): 0.15\n",
      "Epoch [55/200], Step [200/600], d_loss: 0.6216, g_loss: 2.6137, D(x): 0.87, D(G(z)): 0.28\n",
      "Epoch [55/200], Step [400/600], d_loss: 0.4854, g_loss: 2.8667, D(x): 0.81, D(G(z)): 0.11\n",
      "Epoch [55/200], Step [600/600], d_loss: 0.6444, g_loss: 2.3111, D(x): 0.79, D(G(z)): 0.18\n",
      "Epoch [56/200], Step [200/600], d_loss: 0.7150, g_loss: 2.7425, D(x): 0.72, D(G(z)): 0.12\n",
      "Epoch [56/200], Step [400/600], d_loss: 0.4567, g_loss: 2.6803, D(x): 0.84, D(G(z)): 0.14\n",
      "Epoch [56/200], Step [600/600], d_loss: 0.7730, g_loss: 2.6332, D(x): 0.75, D(G(z)): 0.17\n",
      "Epoch [57/200], Step [200/600], d_loss: 0.7432, g_loss: 2.4488, D(x): 0.76, D(G(z)): 0.19\n",
      "Epoch [57/200], Step [400/600], d_loss: 0.7213, g_loss: 1.8332, D(x): 0.84, D(G(z)): 0.29\n",
      "Epoch [57/200], Step [600/600], d_loss: 0.5470, g_loss: 2.4561, D(x): 0.88, D(G(z)): 0.24\n",
      "Epoch [58/200], Step [200/600], d_loss: 0.7133, g_loss: 1.9624, D(x): 0.82, D(G(z)): 0.30\n",
      "Epoch [58/200], Step [400/600], d_loss: 0.8473, g_loss: 3.0034, D(x): 0.73, D(G(z)): 0.17\n",
      "Epoch [58/200], Step [600/600], d_loss: 0.6424, g_loss: 2.3672, D(x): 0.78, D(G(z)): 0.15\n",
      "Epoch [59/200], Step [200/600], d_loss: 0.4797, g_loss: 2.1487, D(x): 0.82, D(G(z)): 0.15\n",
      "Epoch [59/200], Step [400/600], d_loss: 1.1214, g_loss: 1.9827, D(x): 0.70, D(G(z)): 0.32\n",
      "Epoch [59/200], Step [600/600], d_loss: 0.5693, g_loss: 2.4023, D(x): 0.80, D(G(z)): 0.15\n",
      "Epoch [60/200], Step [200/600], d_loss: 0.6903, g_loss: 2.9953, D(x): 0.73, D(G(z)): 0.13\n",
      "Epoch [60/200], Step [400/600], d_loss: 0.7115, g_loss: 3.8535, D(x): 0.81, D(G(z)): 0.20\n",
      "Epoch [60/200], Step [600/600], d_loss: 0.6305, g_loss: 2.5130, D(x): 0.83, D(G(z)): 0.23\n",
      "Epoch [61/200], Step [200/600], d_loss: 0.5079, g_loss: 2.7562, D(x): 0.81, D(G(z)): 0.13\n",
      "Epoch [61/200], Step [400/600], d_loss: 0.6314, g_loss: 2.4005, D(x): 0.78, D(G(z)): 0.17\n",
      "Epoch [61/200], Step [600/600], d_loss: 0.4819, g_loss: 2.7019, D(x): 0.84, D(G(z)): 0.18\n",
      "Epoch [62/200], Step [200/600], d_loss: 0.6658, g_loss: 2.3832, D(x): 0.86, D(G(z)): 0.30\n"
     ]
    },
    {
     "name": "stdout",
     "output_type": "stream",
     "text": [
      "Epoch [62/200], Step [400/600], d_loss: 0.7662, g_loss: 2.9168, D(x): 0.72, D(G(z)): 0.14\n",
      "Epoch [62/200], Step [600/600], d_loss: 0.5768, g_loss: 2.3739, D(x): 0.92, D(G(z)): 0.30\n",
      "Epoch [63/200], Step [200/600], d_loss: 0.5796, g_loss: 2.8499, D(x): 0.82, D(G(z)): 0.18\n",
      "Epoch [63/200], Step [400/600], d_loss: 0.9204, g_loss: 2.6229, D(x): 0.71, D(G(z)): 0.24\n",
      "Epoch [63/200], Step [600/600], d_loss: 0.6529, g_loss: 2.2528, D(x): 0.85, D(G(z)): 0.25\n",
      "Epoch [64/200], Step [200/600], d_loss: 0.8777, g_loss: 2.3391, D(x): 0.71, D(G(z)): 0.20\n",
      "Epoch [64/200], Step [400/600], d_loss: 0.9809, g_loss: 2.4015, D(x): 0.77, D(G(z)): 0.27\n",
      "Epoch [64/200], Step [600/600], d_loss: 0.8503, g_loss: 2.5443, D(x): 0.79, D(G(z)): 0.32\n",
      "Epoch [65/200], Step [200/600], d_loss: 0.4852, g_loss: 2.5716, D(x): 0.89, D(G(z)): 0.24\n",
      "Epoch [65/200], Step [400/600], d_loss: 0.9070, g_loss: 2.4142, D(x): 0.70, D(G(z)): 0.19\n",
      "Epoch [65/200], Step [600/600], d_loss: 0.6392, g_loss: 2.6900, D(x): 0.81, D(G(z)): 0.25\n",
      "Epoch [66/200], Step [200/600], d_loss: 0.7421, g_loss: 2.0894, D(x): 0.84, D(G(z)): 0.32\n",
      "Epoch [66/200], Step [400/600], d_loss: 0.6866, g_loss: 1.9857, D(x): 0.82, D(G(z)): 0.27\n",
      "Epoch [66/200], Step [600/600], d_loss: 0.6632, g_loss: 1.6900, D(x): 0.80, D(G(z)): 0.26\n",
      "Epoch [67/200], Step [200/600], d_loss: 0.5653, g_loss: 2.5203, D(x): 0.82, D(G(z)): 0.22\n",
      "Epoch [67/200], Step [400/600], d_loss: 0.5501, g_loss: 2.0051, D(x): 0.78, D(G(z)): 0.19\n",
      "Epoch [67/200], Step [600/600], d_loss: 0.6950, g_loss: 1.9703, D(x): 0.74, D(G(z)): 0.18\n",
      "Epoch [68/200], Step [200/600], d_loss: 0.7412, g_loss: 1.9044, D(x): 0.84, D(G(z)): 0.33\n",
      "Epoch [68/200], Step [400/600], d_loss: 0.7319, g_loss: 2.1046, D(x): 0.73, D(G(z)): 0.19\n",
      "Epoch [68/200], Step [600/600], d_loss: 0.7152, g_loss: 2.1176, D(x): 0.77, D(G(z)): 0.26\n",
      "Epoch [69/200], Step [200/600], d_loss: 0.7695, g_loss: 2.7845, D(x): 0.77, D(G(z)): 0.23\n",
      "Epoch [69/200], Step [400/600], d_loss: 0.7523, g_loss: 2.6780, D(x): 0.73, D(G(z)): 0.19\n",
      "Epoch [69/200], Step [600/600], d_loss: 0.8454, g_loss: 1.5204, D(x): 0.75, D(G(z)): 0.26\n",
      "Epoch [70/200], Step [200/600], d_loss: 0.7970, g_loss: 1.9476, D(x): 0.86, D(G(z)): 0.37\n",
      "Epoch [70/200], Step [400/600], d_loss: 0.9319, g_loss: 1.6411, D(x): 0.69, D(G(z)): 0.25\n",
      "Epoch [70/200], Step [600/600], d_loss: 0.8415, g_loss: 1.6119, D(x): 0.84, D(G(z)): 0.39\n",
      "Epoch [71/200], Step [200/600], d_loss: 0.7355, g_loss: 1.9431, D(x): 0.77, D(G(z)): 0.25\n",
      "Epoch [71/200], Step [400/600], d_loss: 0.7458, g_loss: 1.6338, D(x): 0.76, D(G(z)): 0.26\n",
      "Epoch [71/200], Step [600/600], d_loss: 0.6750, g_loss: 2.5125, D(x): 0.75, D(G(z)): 0.19\n",
      "Epoch [72/200], Step [200/600], d_loss: 0.6471, g_loss: 2.1539, D(x): 0.79, D(G(z)): 0.22\n",
      "Epoch [72/200], Step [400/600], d_loss: 0.7472, g_loss: 1.8395, D(x): 0.75, D(G(z)): 0.22\n",
      "Epoch [72/200], Step [600/600], d_loss: 0.6289, g_loss: 2.2250, D(x): 0.76, D(G(z)): 0.17\n",
      "Epoch [73/200], Step [200/600], d_loss: 0.8044, g_loss: 1.6972, D(x): 0.78, D(G(z)): 0.33\n",
      "Epoch [73/200], Step [400/600], d_loss: 0.8705, g_loss: 1.6504, D(x): 0.79, D(G(z)): 0.36\n",
      "Epoch [73/200], Step [600/600], d_loss: 0.9933, g_loss: 1.9633, D(x): 0.68, D(G(z)): 0.27\n",
      "Epoch [74/200], Step [200/600], d_loss: 0.7458, g_loss: 1.7689, D(x): 0.78, D(G(z)): 0.27\n",
      "Epoch [74/200], Step [400/600], d_loss: 0.7905, g_loss: 2.3300, D(x): 0.75, D(G(z)): 0.25\n",
      "Epoch [74/200], Step [600/600], d_loss: 0.7714, g_loss: 1.9478, D(x): 0.72, D(G(z)): 0.23\n",
      "Epoch [75/200], Step [200/600], d_loss: 0.8134, g_loss: 1.7811, D(x): 0.77, D(G(z)): 0.28\n",
      "Epoch [75/200], Step [400/600], d_loss: 0.7332, g_loss: 1.8947, D(x): 0.71, D(G(z)): 0.20\n",
      "Epoch [75/200], Step [600/600], d_loss: 0.6264, g_loss: 3.0287, D(x): 0.79, D(G(z)): 0.20\n",
      "Epoch [76/200], Step [200/600], d_loss: 0.7052, g_loss: 2.0725, D(x): 0.77, D(G(z)): 0.22\n",
      "Epoch [76/200], Step [400/600], d_loss: 0.6869, g_loss: 1.7077, D(x): 0.82, D(G(z)): 0.29\n",
      "Epoch [76/200], Step [600/600], d_loss: 0.6326, g_loss: 1.8724, D(x): 0.81, D(G(z)): 0.24\n",
      "Epoch [77/200], Step [200/600], d_loss: 0.6507, g_loss: 2.8317, D(x): 0.85, D(G(z)): 0.28\n",
      "Epoch [77/200], Step [400/600], d_loss: 0.8039, g_loss: 1.9564, D(x): 0.71, D(G(z)): 0.19\n",
      "Epoch [77/200], Step [600/600], d_loss: 0.6241, g_loss: 2.3221, D(x): 0.81, D(G(z)): 0.20\n",
      "Epoch [78/200], Step [200/600], d_loss: 0.7294, g_loss: 2.1702, D(x): 0.74, D(G(z)): 0.25\n",
      "Epoch [78/200], Step [400/600], d_loss: 0.7367, g_loss: 2.1536, D(x): 0.72, D(G(z)): 0.20\n",
      "Epoch [78/200], Step [600/600], d_loss: 0.7752, g_loss: 2.1057, D(x): 0.72, D(G(z)): 0.22\n",
      "Epoch [79/200], Step [200/600], d_loss: 0.7927, g_loss: 2.2121, D(x): 0.66, D(G(z)): 0.16\n",
      "Epoch [79/200], Step [400/600], d_loss: 0.5944, g_loss: 2.4656, D(x): 0.77, D(G(z)): 0.20\n",
      "Epoch [79/200], Step [600/600], d_loss: 0.8422, g_loss: 1.6456, D(x): 0.68, D(G(z)): 0.21\n",
      "Epoch [80/200], Step [200/600], d_loss: 1.0026, g_loss: 2.1631, D(x): 0.66, D(G(z)): 0.22\n",
      "Epoch [80/200], Step [400/600], d_loss: 0.7751, g_loss: 1.7886, D(x): 0.79, D(G(z)): 0.26\n",
      "Epoch [80/200], Step [600/600], d_loss: 0.9916, g_loss: 2.0483, D(x): 0.68, D(G(z)): 0.24\n",
      "Epoch [81/200], Step [200/600], d_loss: 0.7717, g_loss: 2.5445, D(x): 0.74, D(G(z)): 0.20\n",
      "Epoch [81/200], Step [400/600], d_loss: 0.7858, g_loss: 1.8584, D(x): 0.74, D(G(z)): 0.24\n",
      "Epoch [81/200], Step [600/600], d_loss: 0.5330, g_loss: 2.1364, D(x): 0.84, D(G(z)): 0.21\n",
      "Epoch [82/200], Step [200/600], d_loss: 0.8401, g_loss: 2.0519, D(x): 0.73, D(G(z)): 0.25\n",
      "Epoch [82/200], Step [400/600], d_loss: 0.7209, g_loss: 2.3585, D(x): 0.77, D(G(z)): 0.21\n",
      "Epoch [82/200], Step [600/600], d_loss: 0.9575, g_loss: 2.3485, D(x): 0.73, D(G(z)): 0.32\n",
      "Epoch [83/200], Step [200/600], d_loss: 0.6708, g_loss: 2.1314, D(x): 0.79, D(G(z)): 0.23\n",
      "Epoch [83/200], Step [400/600], d_loss: 0.8098, g_loss: 2.1653, D(x): 0.73, D(G(z)): 0.23\n",
      "Epoch [83/200], Step [600/600], d_loss: 0.7582, g_loss: 1.6750, D(x): 0.80, D(G(z)): 0.32\n",
      "Epoch [84/200], Step [200/600], d_loss: 0.7564, g_loss: 2.4469, D(x): 0.80, D(G(z)): 0.29\n",
      "Epoch [84/200], Step [400/600], d_loss: 0.6757, g_loss: 2.5691, D(x): 0.76, D(G(z)): 0.21\n",
      "Epoch [84/200], Step [600/600], d_loss: 0.9633, g_loss: 1.7522, D(x): 0.67, D(G(z)): 0.25\n",
      "Epoch [85/200], Step [200/600], d_loss: 0.7531, g_loss: 1.9632, D(x): 0.76, D(G(z)): 0.26\n",
      "Epoch [85/200], Step [400/600], d_loss: 0.6683, g_loss: 1.8267, D(x): 0.79, D(G(z)): 0.23\n",
      "Epoch [85/200], Step [600/600], d_loss: 0.6788, g_loss: 2.3031, D(x): 0.78, D(G(z)): 0.23\n",
      "Epoch [86/200], Step [200/600], d_loss: 0.7786, g_loss: 1.9051, D(x): 0.75, D(G(z)): 0.25\n",
      "Epoch [86/200], Step [400/600], d_loss: 0.7959, g_loss: 1.7867, D(x): 0.72, D(G(z)): 0.27\n",
      "Epoch [86/200], Step [600/600], d_loss: 0.8820, g_loss: 1.3767, D(x): 0.71, D(G(z)): 0.26\n",
      "Epoch [87/200], Step [200/600], d_loss: 0.7389, g_loss: 2.5097, D(x): 0.71, D(G(z)): 0.19\n",
      "Epoch [87/200], Step [400/600], d_loss: 0.7997, g_loss: 1.8282, D(x): 0.69, D(G(z)): 0.20\n",
      "Epoch [87/200], Step [600/600], d_loss: 0.8046, g_loss: 1.7513, D(x): 0.73, D(G(z)): 0.28\n",
      "Epoch [88/200], Step [200/600], d_loss: 0.7041, g_loss: 2.1680, D(x): 0.76, D(G(z)): 0.22\n",
      "Epoch [88/200], Step [400/600], d_loss: 0.7481, g_loss: 2.0700, D(x): 0.76, D(G(z)): 0.27\n",
      "Epoch [88/200], Step [600/600], d_loss: 0.9368, g_loss: 1.7509, D(x): 0.73, D(G(z)): 0.33\n",
      "Epoch [89/200], Step [200/600], d_loss: 0.7911, g_loss: 2.3183, D(x): 0.81, D(G(z)): 0.34\n",
      "Epoch [89/200], Step [400/600], d_loss: 0.7499, g_loss: 1.5105, D(x): 0.83, D(G(z)): 0.32\n",
      "Epoch [89/200], Step [600/600], d_loss: 0.8059, g_loss: 1.4788, D(x): 0.81, D(G(z)): 0.32\n",
      "Epoch [90/200], Step [200/600], d_loss: 0.6203, g_loss: 1.9632, D(x): 0.83, D(G(z)): 0.26\n",
      "Epoch [90/200], Step [400/600], d_loss: 0.6343, g_loss: 2.4429, D(x): 0.73, D(G(z)): 0.17\n",
      "Epoch [90/200], Step [600/600], d_loss: 0.7955, g_loss: 1.8490, D(x): 0.82, D(G(z)): 0.31\n",
      "Epoch [91/200], Step [200/600], d_loss: 0.7422, g_loss: 1.6166, D(x): 0.69, D(G(z)): 0.17\n",
      "Epoch [91/200], Step [400/600], d_loss: 0.8197, g_loss: 2.1767, D(x): 0.78, D(G(z)): 0.32\n",
      "Epoch [91/200], Step [600/600], d_loss: 0.6429, g_loss: 1.6915, D(x): 0.78, D(G(z)): 0.23\n",
      "Epoch [92/200], Step [200/600], d_loss: 0.7744, g_loss: 1.7378, D(x): 0.74, D(G(z)): 0.24\n",
      "Epoch [92/200], Step [400/600], d_loss: 0.6535, g_loss: 2.5046, D(x): 0.76, D(G(z)): 0.20\n",
      "Epoch [92/200], Step [600/600], d_loss: 0.9611, g_loss: 1.8324, D(x): 0.66, D(G(z)): 0.25\n"
     ]
    },
    {
     "name": "stdout",
     "output_type": "stream",
     "text": [
      "Epoch [93/200], Step [200/600], d_loss: 0.6807, g_loss: 1.7972, D(x): 0.77, D(G(z)): 0.25\n",
      "Epoch [93/200], Step [400/600], d_loss: 0.7084, g_loss: 2.2977, D(x): 0.74, D(G(z)): 0.18\n",
      "Epoch [93/200], Step [600/600], d_loss: 0.7554, g_loss: 1.7628, D(x): 0.72, D(G(z)): 0.24\n",
      "Epoch [94/200], Step [200/600], d_loss: 0.6762, g_loss: 2.0352, D(x): 0.82, D(G(z)): 0.28\n",
      "Epoch [94/200], Step [400/600], d_loss: 0.5905, g_loss: 2.7714, D(x): 0.78, D(G(z)): 0.18\n",
      "Epoch [94/200], Step [600/600], d_loss: 0.7805, g_loss: 2.5661, D(x): 0.67, D(G(z)): 0.14\n",
      "Epoch [95/200], Step [200/600], d_loss: 0.6471, g_loss: 2.3693, D(x): 0.77, D(G(z)): 0.21\n",
      "Epoch [95/200], Step [400/600], d_loss: 0.7306, g_loss: 2.0163, D(x): 0.79, D(G(z)): 0.28\n",
      "Epoch [95/200], Step [600/600], d_loss: 0.7178, g_loss: 1.7083, D(x): 0.73, D(G(z)): 0.21\n",
      "Epoch [96/200], Step [200/600], d_loss: 0.9793, g_loss: 2.1917, D(x): 0.75, D(G(z)): 0.32\n",
      "Epoch [96/200], Step [400/600], d_loss: 0.5798, g_loss: 2.0657, D(x): 0.80, D(G(z)): 0.21\n",
      "Epoch [96/200], Step [600/600], d_loss: 0.8688, g_loss: 1.8888, D(x): 0.75, D(G(z)): 0.31\n",
      "Epoch [97/200], Step [200/600], d_loss: 0.6485, g_loss: 1.5115, D(x): 0.76, D(G(z)): 0.21\n",
      "Epoch [97/200], Step [400/600], d_loss: 0.8146, g_loss: 1.8444, D(x): 0.77, D(G(z)): 0.31\n",
      "Epoch [97/200], Step [600/600], d_loss: 0.9844, g_loss: 1.3659, D(x): 0.71, D(G(z)): 0.34\n",
      "Epoch [98/200], Step [200/600], d_loss: 0.9131, g_loss: 2.0303, D(x): 0.73, D(G(z)): 0.30\n",
      "Epoch [98/200], Step [400/600], d_loss: 0.7928, g_loss: 2.4540, D(x): 0.68, D(G(z)): 0.17\n",
      "Epoch [98/200], Step [600/600], d_loss: 0.9206, g_loss: 1.8301, D(x): 0.72, D(G(z)): 0.29\n",
      "Epoch [99/200], Step [200/600], d_loss: 0.6716, g_loss: 1.8402, D(x): 0.82, D(G(z)): 0.28\n",
      "Epoch [99/200], Step [400/600], d_loss: 1.0580, g_loss: 1.1262, D(x): 0.77, D(G(z)): 0.39\n",
      "Epoch [99/200], Step [600/600], d_loss: 0.6930, g_loss: 2.5577, D(x): 0.78, D(G(z)): 0.24\n"
     ]
    },
    {
     "ename": "KeyboardInterrupt",
     "evalue": "",
     "output_type": "error",
     "traceback": [
      "\u001b[1;31m---------------------------------------------------------------------------\u001b[0m",
      "\u001b[1;31mKeyboardInterrupt\u001b[0m                         Traceback (most recent call last)",
      "\u001b[1;32m<ipython-input-14-6c68c7a1e4ac>\u001b[0m in \u001b[0;36m<module>\u001b[1;34m\u001b[0m\n\u001b[0;32m      2\u001b[0m \u001b[0mtotal_step\u001b[0m \u001b[1;33m=\u001b[0m \u001b[0mlen\u001b[0m\u001b[1;33m(\u001b[0m\u001b[0mdata_loader\u001b[0m\u001b[1;33m)\u001b[0m\u001b[1;33m\u001b[0m\u001b[1;33m\u001b[0m\u001b[0m\n\u001b[0;32m      3\u001b[0m \u001b[1;32mfor\u001b[0m \u001b[0mepoch\u001b[0m \u001b[1;32min\u001b[0m \u001b[0mrange\u001b[0m\u001b[1;33m(\u001b[0m\u001b[0mnum_epochs\u001b[0m\u001b[1;33m)\u001b[0m\u001b[1;33m:\u001b[0m\u001b[1;33m\u001b[0m\u001b[1;33m\u001b[0m\u001b[0m\n\u001b[1;32m----> 4\u001b[1;33m     \u001b[1;32mfor\u001b[0m \u001b[0mi\u001b[0m\u001b[1;33m,\u001b[0m \u001b[1;33m(\u001b[0m\u001b[0mimages\u001b[0m\u001b[1;33m,\u001b[0m \u001b[0m_\u001b[0m\u001b[1;33m)\u001b[0m \u001b[1;32min\u001b[0m \u001b[0menumerate\u001b[0m\u001b[1;33m(\u001b[0m\u001b[0mdata_loader\u001b[0m\u001b[1;33m)\u001b[0m\u001b[1;33m:\u001b[0m\u001b[1;33m\u001b[0m\u001b[1;33m\u001b[0m\u001b[0m\n\u001b[0m\u001b[0;32m      5\u001b[0m         \u001b[0mimages\u001b[0m \u001b[1;33m=\u001b[0m \u001b[0mimages\u001b[0m\u001b[1;33m.\u001b[0m\u001b[0mreshape\u001b[0m\u001b[1;33m(\u001b[0m\u001b[0mbatch_size\u001b[0m\u001b[1;33m,\u001b[0m \u001b[1;33m-\u001b[0m\u001b[1;36m1\u001b[0m\u001b[1;33m)\u001b[0m\u001b[1;33m.\u001b[0m\u001b[0mto\u001b[0m\u001b[1;33m(\u001b[0m\u001b[0mdevice\u001b[0m\u001b[1;33m)\u001b[0m\u001b[1;33m\u001b[0m\u001b[1;33m\u001b[0m\u001b[0m\n\u001b[0;32m      6\u001b[0m \u001b[1;33m\u001b[0m\u001b[0m\n",
      "\u001b[1;32mD:\\anaconda3\\envs\\DPlearning_3.6\\lib\\site-packages\\torch\\utils\\data\\dataloader.py\u001b[0m in \u001b[0;36m__next__\u001b[1;34m(self)\u001b[0m\n\u001b[0;32m    344\u001b[0m     \u001b[1;32mdef\u001b[0m \u001b[0m__next__\u001b[0m\u001b[1;33m(\u001b[0m\u001b[0mself\u001b[0m\u001b[1;33m)\u001b[0m\u001b[1;33m:\u001b[0m\u001b[1;33m\u001b[0m\u001b[1;33m\u001b[0m\u001b[0m\n\u001b[0;32m    345\u001b[0m         \u001b[0mindex\u001b[0m \u001b[1;33m=\u001b[0m \u001b[0mself\u001b[0m\u001b[1;33m.\u001b[0m\u001b[0m_next_index\u001b[0m\u001b[1;33m(\u001b[0m\u001b[1;33m)\u001b[0m  \u001b[1;31m# may raise StopIteration\u001b[0m\u001b[1;33m\u001b[0m\u001b[1;33m\u001b[0m\u001b[0m\n\u001b[1;32m--> 346\u001b[1;33m         \u001b[0mdata\u001b[0m \u001b[1;33m=\u001b[0m \u001b[0mself\u001b[0m\u001b[1;33m.\u001b[0m\u001b[0mdataset_fetcher\u001b[0m\u001b[1;33m.\u001b[0m\u001b[0mfetch\u001b[0m\u001b[1;33m(\u001b[0m\u001b[0mindex\u001b[0m\u001b[1;33m)\u001b[0m  \u001b[1;31m# may raise StopIteration\u001b[0m\u001b[1;33m\u001b[0m\u001b[1;33m\u001b[0m\u001b[0m\n\u001b[0m\u001b[0;32m    347\u001b[0m         \u001b[1;32mif\u001b[0m \u001b[0mself\u001b[0m\u001b[1;33m.\u001b[0m\u001b[0mpin_memory\u001b[0m\u001b[1;33m:\u001b[0m\u001b[1;33m\u001b[0m\u001b[1;33m\u001b[0m\u001b[0m\n\u001b[0;32m    348\u001b[0m             \u001b[0mdata\u001b[0m \u001b[1;33m=\u001b[0m \u001b[0m_utils\u001b[0m\u001b[1;33m.\u001b[0m\u001b[0mpin_memory\u001b[0m\u001b[1;33m.\u001b[0m\u001b[0mpin_memory\u001b[0m\u001b[1;33m(\u001b[0m\u001b[0mdata\u001b[0m\u001b[1;33m)\u001b[0m\u001b[1;33m\u001b[0m\u001b[1;33m\u001b[0m\u001b[0m\n",
      "\u001b[1;32mD:\\anaconda3\\envs\\DPlearning_3.6\\lib\\site-packages\\torch\\utils\\data\\_utils\\fetch.py\u001b[0m in \u001b[0;36mfetch\u001b[1;34m(self, possibly_batched_index)\u001b[0m\n\u001b[0;32m     42\u001b[0m     \u001b[1;32mdef\u001b[0m \u001b[0mfetch\u001b[0m\u001b[1;33m(\u001b[0m\u001b[0mself\u001b[0m\u001b[1;33m,\u001b[0m \u001b[0mpossibly_batched_index\u001b[0m\u001b[1;33m)\u001b[0m\u001b[1;33m:\u001b[0m\u001b[1;33m\u001b[0m\u001b[1;33m\u001b[0m\u001b[0m\n\u001b[0;32m     43\u001b[0m         \u001b[1;32mif\u001b[0m \u001b[0mself\u001b[0m\u001b[1;33m.\u001b[0m\u001b[0mauto_collation\u001b[0m\u001b[1;33m:\u001b[0m\u001b[1;33m\u001b[0m\u001b[1;33m\u001b[0m\u001b[0m\n\u001b[1;32m---> 44\u001b[1;33m             \u001b[0mdata\u001b[0m \u001b[1;33m=\u001b[0m \u001b[1;33m[\u001b[0m\u001b[0mself\u001b[0m\u001b[1;33m.\u001b[0m\u001b[0mdataset\u001b[0m\u001b[1;33m[\u001b[0m\u001b[0midx\u001b[0m\u001b[1;33m]\u001b[0m \u001b[1;32mfor\u001b[0m \u001b[0midx\u001b[0m \u001b[1;32min\u001b[0m \u001b[0mpossibly_batched_index\u001b[0m\u001b[1;33m]\u001b[0m\u001b[1;33m\u001b[0m\u001b[1;33m\u001b[0m\u001b[0m\n\u001b[0m\u001b[0;32m     45\u001b[0m         \u001b[1;32melse\u001b[0m\u001b[1;33m:\u001b[0m\u001b[1;33m\u001b[0m\u001b[1;33m\u001b[0m\u001b[0m\n\u001b[0;32m     46\u001b[0m             \u001b[0mdata\u001b[0m \u001b[1;33m=\u001b[0m \u001b[0mself\u001b[0m\u001b[1;33m.\u001b[0m\u001b[0mdataset\u001b[0m\u001b[1;33m[\u001b[0m\u001b[0mpossibly_batched_index\u001b[0m\u001b[1;33m]\u001b[0m\u001b[1;33m\u001b[0m\u001b[1;33m\u001b[0m\u001b[0m\n",
      "\u001b[1;32mD:\\anaconda3\\envs\\DPlearning_3.6\\lib\\site-packages\\torch\\utils\\data\\_utils\\fetch.py\u001b[0m in \u001b[0;36m<listcomp>\u001b[1;34m(.0)\u001b[0m\n\u001b[0;32m     42\u001b[0m     \u001b[1;32mdef\u001b[0m \u001b[0mfetch\u001b[0m\u001b[1;33m(\u001b[0m\u001b[0mself\u001b[0m\u001b[1;33m,\u001b[0m \u001b[0mpossibly_batched_index\u001b[0m\u001b[1;33m)\u001b[0m\u001b[1;33m:\u001b[0m\u001b[1;33m\u001b[0m\u001b[1;33m\u001b[0m\u001b[0m\n\u001b[0;32m     43\u001b[0m         \u001b[1;32mif\u001b[0m \u001b[0mself\u001b[0m\u001b[1;33m.\u001b[0m\u001b[0mauto_collation\u001b[0m\u001b[1;33m:\u001b[0m\u001b[1;33m\u001b[0m\u001b[1;33m\u001b[0m\u001b[0m\n\u001b[1;32m---> 44\u001b[1;33m             \u001b[0mdata\u001b[0m \u001b[1;33m=\u001b[0m \u001b[1;33m[\u001b[0m\u001b[0mself\u001b[0m\u001b[1;33m.\u001b[0m\u001b[0mdataset\u001b[0m\u001b[1;33m[\u001b[0m\u001b[0midx\u001b[0m\u001b[1;33m]\u001b[0m \u001b[1;32mfor\u001b[0m \u001b[0midx\u001b[0m \u001b[1;32min\u001b[0m \u001b[0mpossibly_batched_index\u001b[0m\u001b[1;33m]\u001b[0m\u001b[1;33m\u001b[0m\u001b[1;33m\u001b[0m\u001b[0m\n\u001b[0m\u001b[0;32m     45\u001b[0m         \u001b[1;32melse\u001b[0m\u001b[1;33m:\u001b[0m\u001b[1;33m\u001b[0m\u001b[1;33m\u001b[0m\u001b[0m\n\u001b[0;32m     46\u001b[0m             \u001b[0mdata\u001b[0m \u001b[1;33m=\u001b[0m \u001b[0mself\u001b[0m\u001b[1;33m.\u001b[0m\u001b[0mdataset\u001b[0m\u001b[1;33m[\u001b[0m\u001b[0mpossibly_batched_index\u001b[0m\u001b[1;33m]\u001b[0m\u001b[1;33m\u001b[0m\u001b[1;33m\u001b[0m\u001b[0m\n",
      "\u001b[1;32mD:\\anaconda3\\envs\\DPlearning_3.6\\lib\\site-packages\\torchvision\\datasets\\mnist.py\u001b[0m in \u001b[0;36m__getitem__\u001b[1;34m(self, index)\u001b[0m\n\u001b[0;32m     93\u001b[0m \u001b[1;33m\u001b[0m\u001b[0m\n\u001b[0;32m     94\u001b[0m         \u001b[1;32mif\u001b[0m \u001b[0mself\u001b[0m\u001b[1;33m.\u001b[0m\u001b[0mtransform\u001b[0m \u001b[1;32mis\u001b[0m \u001b[1;32mnot\u001b[0m \u001b[1;32mNone\u001b[0m\u001b[1;33m:\u001b[0m\u001b[1;33m\u001b[0m\u001b[1;33m\u001b[0m\u001b[0m\n\u001b[1;32m---> 95\u001b[1;33m             \u001b[0mimg\u001b[0m \u001b[1;33m=\u001b[0m \u001b[0mself\u001b[0m\u001b[1;33m.\u001b[0m\u001b[0mtransform\u001b[0m\u001b[1;33m(\u001b[0m\u001b[0mimg\u001b[0m\u001b[1;33m)\u001b[0m\u001b[1;33m\u001b[0m\u001b[1;33m\u001b[0m\u001b[0m\n\u001b[0m\u001b[0;32m     96\u001b[0m \u001b[1;33m\u001b[0m\u001b[0m\n\u001b[0;32m     97\u001b[0m         \u001b[1;32mif\u001b[0m \u001b[0mself\u001b[0m\u001b[1;33m.\u001b[0m\u001b[0mtarget_transform\u001b[0m \u001b[1;32mis\u001b[0m \u001b[1;32mnot\u001b[0m \u001b[1;32mNone\u001b[0m\u001b[1;33m:\u001b[0m\u001b[1;33m\u001b[0m\u001b[1;33m\u001b[0m\u001b[0m\n",
      "\u001b[1;32mD:\\anaconda3\\envs\\DPlearning_3.6\\lib\\site-packages\\torchvision\\transforms\\transforms.py\u001b[0m in \u001b[0;36m__call__\u001b[1;34m(self, img)\u001b[0m\n\u001b[0;32m     59\u001b[0m     \u001b[1;32mdef\u001b[0m \u001b[0m__call__\u001b[0m\u001b[1;33m(\u001b[0m\u001b[0mself\u001b[0m\u001b[1;33m,\u001b[0m \u001b[0mimg\u001b[0m\u001b[1;33m)\u001b[0m\u001b[1;33m:\u001b[0m\u001b[1;33m\u001b[0m\u001b[1;33m\u001b[0m\u001b[0m\n\u001b[0;32m     60\u001b[0m         \u001b[1;32mfor\u001b[0m \u001b[0mt\u001b[0m \u001b[1;32min\u001b[0m \u001b[0mself\u001b[0m\u001b[1;33m.\u001b[0m\u001b[0mtransforms\u001b[0m\u001b[1;33m:\u001b[0m\u001b[1;33m\u001b[0m\u001b[1;33m\u001b[0m\u001b[0m\n\u001b[1;32m---> 61\u001b[1;33m             \u001b[0mimg\u001b[0m \u001b[1;33m=\u001b[0m \u001b[0mt\u001b[0m\u001b[1;33m(\u001b[0m\u001b[0mimg\u001b[0m\u001b[1;33m)\u001b[0m\u001b[1;33m\u001b[0m\u001b[1;33m\u001b[0m\u001b[0m\n\u001b[0m\u001b[0;32m     62\u001b[0m         \u001b[1;32mreturn\u001b[0m \u001b[0mimg\u001b[0m\u001b[1;33m\u001b[0m\u001b[1;33m\u001b[0m\u001b[0m\n\u001b[0;32m     63\u001b[0m \u001b[1;33m\u001b[0m\u001b[0m\n",
      "\u001b[1;32mD:\\anaconda3\\envs\\DPlearning_3.6\\lib\\site-packages\\torchvision\\transforms\\transforms.py\u001b[0m in \u001b[0;36m__call__\u001b[1;34m(self, pic)\u001b[0m\n\u001b[0;32m     90\u001b[0m             \u001b[0mTensor\u001b[0m\u001b[1;33m:\u001b[0m \u001b[0mConverted\u001b[0m \u001b[0mimage\u001b[0m\u001b[1;33m.\u001b[0m\u001b[1;33m\u001b[0m\u001b[1;33m\u001b[0m\u001b[0m\n\u001b[0;32m     91\u001b[0m         \"\"\"\n\u001b[1;32m---> 92\u001b[1;33m         \u001b[1;32mreturn\u001b[0m \u001b[0mF\u001b[0m\u001b[1;33m.\u001b[0m\u001b[0mto_tensor\u001b[0m\u001b[1;33m(\u001b[0m\u001b[0mpic\u001b[0m\u001b[1;33m)\u001b[0m\u001b[1;33m\u001b[0m\u001b[1;33m\u001b[0m\u001b[0m\n\u001b[0m\u001b[0;32m     93\u001b[0m \u001b[1;33m\u001b[0m\u001b[0m\n\u001b[0;32m     94\u001b[0m     \u001b[1;32mdef\u001b[0m \u001b[0m__repr__\u001b[0m\u001b[1;33m(\u001b[0m\u001b[0mself\u001b[0m\u001b[1;33m)\u001b[0m\u001b[1;33m:\u001b[0m\u001b[1;33m\u001b[0m\u001b[1;33m\u001b[0m\u001b[0m\n",
      "\u001b[1;32mD:\\anaconda3\\envs\\DPlearning_3.6\\lib\\site-packages\\torchvision\\transforms\\functional.py\u001b[0m in \u001b[0;36mto_tensor\u001b[1;34m(pic)\u001b[0m\n\u001b[0;32m     92\u001b[0m     \u001b[1;32melse\u001b[0m\u001b[1;33m:\u001b[0m\u001b[1;33m\u001b[0m\u001b[1;33m\u001b[0m\u001b[0m\n\u001b[0;32m     93\u001b[0m         \u001b[0mnchannel\u001b[0m \u001b[1;33m=\u001b[0m \u001b[0mlen\u001b[0m\u001b[1;33m(\u001b[0m\u001b[0mpic\u001b[0m\u001b[1;33m.\u001b[0m\u001b[0mmode\u001b[0m\u001b[1;33m)\u001b[0m\u001b[1;33m\u001b[0m\u001b[1;33m\u001b[0m\u001b[0m\n\u001b[1;32m---> 94\u001b[1;33m     \u001b[0mimg\u001b[0m \u001b[1;33m=\u001b[0m \u001b[0mimg\u001b[0m\u001b[1;33m.\u001b[0m\u001b[0mview\u001b[0m\u001b[1;33m(\u001b[0m\u001b[0mpic\u001b[0m\u001b[1;33m.\u001b[0m\u001b[0msize\u001b[0m\u001b[1;33m[\u001b[0m\u001b[1;36m1\u001b[0m\u001b[1;33m]\u001b[0m\u001b[1;33m,\u001b[0m \u001b[0mpic\u001b[0m\u001b[1;33m.\u001b[0m\u001b[0msize\u001b[0m\u001b[1;33m[\u001b[0m\u001b[1;36m0\u001b[0m\u001b[1;33m]\u001b[0m\u001b[1;33m,\u001b[0m \u001b[0mnchannel\u001b[0m\u001b[1;33m)\u001b[0m\u001b[1;33m\u001b[0m\u001b[1;33m\u001b[0m\u001b[0m\n\u001b[0m\u001b[0;32m     95\u001b[0m     \u001b[1;31m# put it from HWC to CHW format\u001b[0m\u001b[1;33m\u001b[0m\u001b[1;33m\u001b[0m\u001b[1;33m\u001b[0m\u001b[0m\n\u001b[0;32m     96\u001b[0m     \u001b[1;31m# yikes, this transpose takes 80% of the loading time/CPU\u001b[0m\u001b[1;33m\u001b[0m\u001b[1;33m\u001b[0m\u001b[1;33m\u001b[0m\u001b[0m\n",
      "\u001b[1;31mKeyboardInterrupt\u001b[0m: "
     ]
    }
   ],
   "source": [
    "# Start training\n",
    "total_step = len(data_loader)\n",
    "for epoch in range(num_epochs):\n",
    "    for i, (images, _) in enumerate(data_loader):\n",
    "        images = images.reshape(batch_size, -1).to(device)\n",
    "        \n",
    "        # Create the labels which are later used as input for the BCE loss\n",
    "        real_labels = torch.ones(batch_size, 1).to(device)\n",
    "        fake_labels = torch.zeros(batch_size, 1).to(device)\n",
    "\n",
    "        # ================================================================== #\n",
    "        #                      Train the discriminator                       #\n",
    "        # ================================================================== #\n",
    "\n",
    "        # Compute BCE_Loss using real images where BCE_Loss(x, y): - y * log(D(x)) - (1-y) * log(1 - D(x))\n",
    "        # Second term of the loss is always zero since real_labels == 1\n",
    "        outputs = D(images)\n",
    "        d_loss_real = criterion(outputs, real_labels)\n",
    "        real_score = outputs\n",
    "        \n",
    "        # Compute BCELoss using fake images\n",
    "        # First term of the loss is always zero since fake_labels == 0\n",
    "        z = torch.randn(batch_size, latent_size).to(device)\n",
    "        fake_images = G(z)\n",
    "        outputs = D(fake_images)\n",
    "        d_loss_fake = criterion(outputs, fake_labels)\n",
    "        fake_score = outputs\n",
    "        \n",
    "        # Backprop and optimize\n",
    "        d_loss = d_loss_real + d_loss_fake\n",
    "        reset_grad()\n",
    "        # calculates gradient\n",
    "        d_loss.backward()\n",
    "        # Update parameters\n",
    "        d_optimizer.step()\n",
    "        \n",
    "        # ================================================================== #\n",
    "        #                        Train the generator                         #\n",
    "        # ================================================================== #\n",
    "\n",
    "        # Compute loss with fake images\n",
    "        z = torch.randn(batch_size, latent_size).to(device)\n",
    "        fake_images = G(z)\n",
    "        outputs = D(fake_images)\n",
    "        \n",
    "        # We train G to maximize log(D(G(z)) instead of minimizing log(1-D(G(z)))\n",
    "        # For the reason, see the last paragraph of section 3. https://arxiv.org/pdf/1406.2661.pdf\n",
    "        g_loss = criterion(outputs, real_labels)\n",
    "        \n",
    "        # Backprop and optimize\n",
    "        reset_grad()\n",
    "        g_loss.backward()\n",
    "        g_optimizer.step()\n",
    "        \n",
    "        if (i+1) % 200 == 0:\n",
    "            print('Epoch [{}/{}], Step [{}/{}], d_loss: {:.4f}, g_loss: {:.4f}, D(x): {:.2f}, D(G(z)): {:.2f}' \n",
    "                  .format(epoch, num_epochs, i+1, total_step, d_loss.item(), g_loss.item(), \n",
    "                          real_score.mean().item(), fake_score.mean().item()))\n",
    "    \n",
    "    # Save real images\n",
    "    if (epoch+1) == 1:\n",
    "        images = images.reshape(images.size(0), 1, 28, 28)\n",
    "        save_image(denorm(images), os.path.join(sample_dir, 'real_images.png'))\n",
    "    \n",
    "    # Save sampled images\n",
    "    fake_images = fake_images.reshape(fake_images.size(0), 1, 28, 28)\n",
    "    save_image(denorm(fake_images), os.path.join(sample_dir, 'fake_images-{}.png'.format(epoch+1)))\n",
    "    torch.save(G.state_dict(), 'G.ckpt')\n",
    "    torch.save(D.state_dict(), 'D.ckpt')\n",
    "\n",
    "# Save the model checkpoints \n"
   ]
  },
  {
   "cell_type": "markdown",
   "metadata": {},
   "source": [
    "# 2. VAE"
   ]
  },
  {
   "cell_type": "code",
   "execution_count": 24,
   "metadata": {},
   "outputs": [],
   "source": [
    "import torch\n",
    "import torch.nn as nn\n",
    "import torch.nn.functional as F\n",
    "import torch.optim as optim\n",
    "\n",
    "from torch.utils.data import DataLoader\n",
    "from torchvision import datasets, transforms"
   ]
  },
  {
   "cell_type": "code",
   "execution_count": 67,
   "metadata": {},
   "outputs": [],
   "source": [
    "%matplotlib inline\n",
    "import matplotlib.pyplot as plt\n",
    "\n",
    "\n",
    "device = torch.device('cuda' if torch.cuda.is_available() else 'cpu')\n",
    "\n",
    "BATCH_SIZE = 64         # number of data points in each batch\n",
    "N_EPOCHS = 10           # times to run the model on complete data\n",
    "INPUT_DIM = 28 * 28     # size of each input\n",
    "HIDDEN_DIM = 256        # hidden dimension\n",
    "LATENT_DIM = 50         # latent vector dimension\n",
    "lr = 1e-3               # learning rate\n",
    "\n",
    "transform = transforms.Compose([transforms.ToTensor()])\n",
    "train_dataset = datasets.MNIST(\n",
    "    './data',\n",
    "    train=True,\n",
    "    download=True,\n",
    "    transform=transform)\n",
    "\n",
    "test_dataset = datasets.MNIST(\n",
    "    './data',\n",
    "    train=False,\n",
    "    download=True,\n",
    "    transform=transform\n",
    ")\n",
    "\n",
    "train_iterator = DataLoader(train_dataset, batch_size=BATCH_SIZE, shuffle=True)\n",
    "test_iterator = DataLoader(test_dataset, batch_size=BATCH_SIZE)"
   ]
  },
  {
   "cell_type": "markdown",
   "metadata": {},
   "source": [
    "# Construct Class"
   ]
  },
  {
   "cell_type": "code",
   "execution_count": 27,
   "metadata": {},
   "outputs": [],
   "source": [
    "class Encoder(nn.Module):\n",
    "    ''' This the encoder part of VAE\n",
    "    '''\n",
    "    def __init__(self, input_dim, hidden_dim, z_dim):\n",
    "        '''\n",
    "        Args:\n",
    "            input_dim: A integer indicating the size of input (in case of MNIST 28 * 28).\n",
    "            hidden_dim: A integer indicating the size of hidden dimension.\n",
    "            z_dim: A integer indicating the latent dimension.\n",
    "        '''\n",
    "        super(Encoder, self).__init__()\n",
    "\n",
    "        self.linear = nn.Linear(input_dim, hidden_dim)\n",
    "        self.mu = nn.Linear(hidden_dim, z_dim)\n",
    "        self.var = nn.Linear(hidden_dim, z_dim)\n",
    "\n",
    "    def forward(self, x):\n",
    "        # x is of shape [batch_size, input_dim]\n",
    "\n",
    "        hidden = F.relu(self.linear(x))\n",
    "        # hidden is of shape [batch_size, hidden_dim]\n",
    "        z_mu = self.mu(hidden)\n",
    "        # z_mu is of shape [batch_size, latent_dim]\n",
    "        z_var = self.var(hidden)\n",
    "        # z_var is of shape [batch_size, latent_dim]\n",
    "\n",
    "        return z_mu, z_var\n",
    "\n",
    "class Decoder(nn.Module):\n",
    "    ''' This the decoder part of VAE\n",
    "    '''\n",
    "    def __init__(self, z_dim, hidden_dim, output_dim):\n",
    "        '''\n",
    "        Args:\n",
    "            z_dim: A integer indicating the latent size.\n",
    "            hidden_dim: A integer indicating the size of hidden dimension.\n",
    "            output_dim: A integer indicating the output dimension (in case of MNIST it is 28 * 28)\n",
    "        '''\n",
    "        super(Decoder, self).__init__()\n",
    "\n",
    "        self.linear = nn.Linear(z_dim, hidden_dim)\n",
    "        self.out = nn.Linear(hidden_dim, output_dim)\n",
    "\n",
    "    def forward(self, x):\n",
    "        # x is of shape [batch_size, latent_dim]\n",
    "\n",
    "        hidden = F.relu(self.linear(x))\n",
    "        # hidden is of shape [batch_size, hidden_dim]\n",
    "\n",
    "        predicted = torch.sigmoid(self.out(hidden))\n",
    "        # predicted is of shape [batch_size, output_dim]\n",
    "        return predicted\n",
    "\n",
    "\n",
    "class VAE(nn.Module):\n",
    "    def __init__(self, enc, dec):\n",
    "        ''' This the VAE, which takes a encoder and decoder.\n",
    "        '''\n",
    "        super(VAE, self).__init__()\n",
    "\n",
    "        self.enc = enc\n",
    "        self.dec = dec\n",
    "\n",
    "    def forward(self, x):\n",
    "        # encode\n",
    "        z_mu, z_var = self.enc(x)\n",
    "\n",
    "        # sample from the distribution having latent parameters z_mu, z_var\n",
    "        # reparameterize\n",
    "        std = torch.exp(z_var / 2)\n",
    "        eps = torch.randn_like(std)\n",
    "        x_sample = eps.mul(std).add_(z_mu)\n",
    "\n",
    "        # decode\n",
    "        predicted = self.dec(x_sample)\n",
    "        return predicted, z_mu, z_var"
   ]
  },
  {
   "cell_type": "code",
   "execution_count": 28,
   "metadata": {},
   "outputs": [],
   "source": [
    "# encoder\n",
    "encoder = Encoder(INPUT_DIM, HIDDEN_DIM, LATENT_DIM)\n",
    "\n",
    "# decoder\n",
    "decoder = Decoder(LATENT_DIM, HIDDEN_DIM, INPUT_DIM)\n",
    "\n",
    "# vae\n",
    "model = VAE(encoder, decoder).to(device)\n",
    "\n",
    "# optimizer\n",
    "optimizer = optim.Adam(model.parameters(), lr=lr)"
   ]
  },
  {
   "cell_type": "markdown",
   "metadata": {},
   "source": [
    "# Train VAE"
   ]
  },
  {
   "cell_type": "code",
   "execution_count": 30,
   "metadata": {
    "scrolled": true
   },
   "outputs": [
    {
     "name": "stdout",
     "output_type": "stream",
     "text": [
      "Epoch 0, Train Loss: 106.44, Test Loss: 105.88\n",
      "Epoch 1, Train Loss: 106.15, Test Loss: 105.59\n",
      "Epoch 2, Train Loss: 105.91, Test Loss: 105.74\n",
      "Epoch 3, Train Loss: 105.67, Test Loss: 105.36\n",
      "Epoch 4, Train Loss: 105.52, Test Loss: 104.95\n",
      "Epoch 5, Train Loss: 105.38, Test Loss: 104.99\n",
      "Epoch 6, Train Loss: 105.25, Test Loss: 104.82\n",
      "Epoch 7, Train Loss: 105.09, Test Loss: 104.78\n",
      "Epoch 8, Train Loss: 105.03, Test Loss: 104.68\n",
      "Epoch 9, Train Loss: 104.90, Test Loss: 104.72\n"
     ]
    },
    {
     "data": {
      "image/png": "[encoded data removed]",
      "text/plain": [
       "<Figure size 432x288 with 1 Axes>"
      ]
     },
     "metadata": {
      "needs_background": "light"
     },
     "output_type": "display_data"
    }
   ],
   "source": [
    "def train():\n",
    "    # set the train mode\n",
    "    model.train()\n",
    "\n",
    "    # loss of the epoch\n",
    "    train_loss = 0\n",
    "\n",
    "    for i, (x, _) in enumerate(train_iterator):\n",
    "        # reshape the data into [batch_size, 784]\n",
    "        x = x.view(-1, 28 * 28)\n",
    "        x = x.to(device)\n",
    "\n",
    "        # update the gradients to zero\n",
    "        optimizer.zero_grad()\n",
    "\n",
    "        # forward pass\n",
    "        x_sample, z_mu, z_var = model(x)\n",
    "\n",
    "        # reconstruction loss\n",
    "        recon_loss = F.binary_cross_entropy(x_sample, x, size_average=False)\n",
    "\n",
    "        # kl divergence loss\n",
    "        kl_loss = 0.5 * torch.sum(torch.exp(z_var) + z_mu**2 - 1.0 - z_var)\n",
    "\n",
    "        # total loss\n",
    "        loss = recon_loss + kl_loss\n",
    "\n",
    "        # backward pass\n",
    "        loss.backward()\n",
    "        train_loss += loss.item()\n",
    "\n",
    "        # update the weights\n",
    "        optimizer.step()\n",
    "\n",
    "    return train_loss\n",
    "\n",
    "\n",
    "def test():\n",
    "    # set the evaluation mode\n",
    "    model.eval()\n",
    "\n",
    "    # test loss for the data\n",
    "    test_loss = 0\n",
    "\n",
    "    # we don't need to track the gradients, since we are not updating the parameters during evaluation / testing\n",
    "    with torch.no_grad():\n",
    "        for i, (x, _) in enumerate(test_iterator):\n",
    "            # reshape the data\n",
    "            x = x.view(-1, 28 * 28)\n",
    "            x = x.to(device)\n",
    "\n",
    "            # forward pass\n",
    "            x_sample, z_mu, z_var = model(x)\n",
    "\n",
    "            # reconstruction loss\n",
    "            recon_loss = F.binary_cross_entropy(x_sample, x, size_average=False)\n",
    "\n",
    "            # kl divergence loss\n",
    "            kl_loss = 0.5 * torch.sum(torch.exp(z_var) + z_mu**2 - 1.0 - z_var)\n",
    "\n",
    "            # total loss\n",
    "            loss = recon_loss + kl_loss\n",
    "            test_loss += loss.item()\n",
    "\n",
    "    return test_loss\n",
    "\n",
    "best_test_loss = float('inf')\n",
    "\n",
    "for e in range(N_EPOCHS):\n",
    "    train_loss = train()\n",
    "    test_loss = test()\n",
    "    train_loss /= len(train_dataset)\n",
    "    test_loss /= len(test_dataset)\n",
    "    print(f'Epoch {e}, Train Loss: {train_loss:.2f}, Test Loss: {test_loss:.2f}')\n",
    "    if best_test_loss > test_loss:\n",
    "        best_test_loss = test_loss\n",
    "        patience_counter = 1\n",
    "    else:\n",
    "        patience_counter += 1\n",
    "    if patience_counter > 3:\n",
    "        break"
   ]
  },
  {
   "cell_type": "code",
   "execution_count": 68,
   "metadata": {},
   "outputs": [
    {
     "data": {
      "image/png": "[encoded data removed]",
      "text/plain": [
       "<Figure size 432x288 with 1 Axes>"
      ]
     },
     "metadata": {
      "needs_background": "light"
     },
     "output_type": "display_data"
    },
    {
     "data": {
      "image/png": "[encoded data removed]",
      "text/plain": [
       "<Figure size 432x288 with 1 Axes>"
      ]
     },
     "metadata": {
      "needs_background": "light"
     },
     "output_type": "display_data"
    },
    {
     "data": {
      "image/png": "[encoded data removed]",
      "text/plain": [
       "<Figure size 432x288 with 1 Axes>"
      ]
     },
     "metadata": {
      "needs_background": "light"
     },
     "output_type": "display_data"
    },
    {
     "data": {
      "image/png": "[encoded data removed]",
      "text/plain": [
       "<Figure size 432x288 with 1 Axes>"
      ]
     },
     "metadata": {
      "needs_background": "light"
     },
     "output_type": "display_data"
    },
    {
     "data": {
      "image/png": "[encoded data removed]",
      "text/plain": [
       "<Figure size 432x288 with 1 Axes>"
      ]
     },
     "metadata": {
      "needs_background": "light"
     },
     "output_type": "display_data"
    },
    {
     "data": {
      "image/png": "[encoded data removed]",
      "text/plain": [
       "<Figure size 432x288 with 1 Axes>"
      ]
     },
     "metadata": {
      "needs_background": "light"
     },
     "output_type": "display_data"
    },
    {
     "data": {
      "image/png": "[encoded data removed]",
      "text/plain": [
       "<Figure size 432x288 with 1 Axes>"
      ]
     },
     "metadata": {
      "needs_background": "light"
     },
     "output_type": "display_data"
    },
    {
     "data": {
      "image/png": "[encoded data removed]",
      "text/plain": [
       "<Figure size 432x288 with 1 Axes>"
      ]
     },
     "metadata": {
      "needs_background": "light"
     },
     "output_type": "display_data"
    },
    {
     "data": {
      "image/png": "[encoded data removed]",
      "text/plain": [
       "<Figure size 432x288 with 1 Axes>"
      ]
     },
     "metadata": {
      "needs_background": "light"
     },
     "output_type": "display_data"
    },
    {
     "data": {
      "image/png": "[encoded data removed]",
      "text/plain": [
       "<Figure size 432x288 with 1 Axes>"
      ]
     },
     "metadata": {
      "needs_background": "light"
     },
     "output_type": "display_data"
    }
   ],
   "source": [
    "# sample and generate a image\n",
    "for i in range(10):\n",
    "    z = torch.randn(1, LATENT_DIM).to(device)\n",
    "    reconstructed_img = model.dec(z)\n",
    "    img = reconstructed_img.view(28, 28).data\n",
    "\n",
    "    plt.figure()\n",
    "    plt.imshow(img, cmap='gray')\n",
    "    plt.show()"
   ]
  },
  {
   "cell_type": "markdown",
   "metadata": {},
   "source": [
    "# Reference"
   ]
  },
  {
   "cell_type": "markdown",
   "metadata": {},
   "source": [
    "https://github.com/graviraja/pytorch-sample-codes/blob/master/simple_vae.py\n",
    "\n",
    "https://github.com/yunjey/pytorch-tutorial/blob/master/tutorials/03-advanced/generative_adversarial_network/main.py"
   ]
  }
 ],
 "metadata": {
  "kernelspec": {
   "display_name": "Python 3",
   "language": "python",
   "name": "python3"
  },
  "language_info": {
   "codemirror_mode": {
    "name": "ipython",
    "version": 3
   },
   "file_extension": ".py",
   "mimetype": "text/x-python",
   "name": "python",
   "nbconvert_exporter": "python",
   "pygments_lexer": "ipython3",
   "version": "3.6.11"
  },
  "varInspector": {
   "cols": {
    "lenName": 16,
    "lenType": 16,
    "lenVar": 40
   },
   "kernels_config": {
    "python": {
     "delete_cmd_postfix": "",
     "delete_cmd_prefix": "del ",
     "library": "var_list.py",
     "varRefreshCmd": "print(var_dic_list())"
    },
    "r": {
     "delete_cmd_postfix": ") ",
     "delete_cmd_prefix": "rm(",
     "library": "var_list.r",
     "varRefreshCmd": "cat(var_dic_list()) "
    }
   },
   "types_to_exclude": [
    "module",
    "function",
    "builtin_function_or_method",
    "instance",
    "_Feature"
   ],
   "window_display": false
  }
 },
 "nbformat": 4,
 "nbformat_minor": 2
}
